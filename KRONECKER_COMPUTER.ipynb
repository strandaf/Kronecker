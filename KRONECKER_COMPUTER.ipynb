{
 "cells": [
  {
   "cell_type": "markdown",
   "metadata": {},
   "source": [
    "# Kronecker coefficient computer.\n",
    "\n",
    "### Motivation.\n",
    "\n",
    "This file is a companion to the paper *Estimating and computing Kronecker coefficients* (https://arxiv.org/abs/2210.12128).\n",
    "Mainly, it can be used to compute Kronecker coefficients $g_{\\lambda, \\mu, \\nu}$ for $\\ell(\\lambda) \\leq 8, \\ell(\\mu) \\leq 2, \\ell(\\nu) \\leq 4$ via the process described in Section 3 (\"Explicit computation of Kronecker coefficients\"). \n",
    "\n",
    "In addition we give functions to compute the vanishing conditions given Theorem 4.4 of Section 4 (\"Vanishing conditions\"), as well as the upper bounds given in Corollaries 6.6 and 6.8 of Section 6 (\"Upper bounds for Kronecker coefficients\").\n",
    "\n",
    "The notation in this document is generally consistent with the paper, so that the paper can be used to clarify\n",
    "most misunderstandings.\n",
    "\n",
    "### Technical details.\n",
    "\n",
    "In this file, there are three different tools for computing Kronecker coefficients $g_{\\mu, \\nu, \\lambda}$: K22, K23, K24. \n",
    "- K22 works for the case when $\\ell(\\mu), \\ell(\\nu) \\leq 2, \\ell(\\lambda) \\leq 4$.  \n",
    "- K23 works for the case when $\\ell(\\mu) \\leq 2, \\ell(\\nu) \\leq 3, \\ell(\\lambda) \\leq 6$.\n",
    "- K24 works for the case when $\\ell(\\mu) \\leq 2, \\ell(\\nu) \\leq 4, \\ell(\\lambda) \\leq 8$.\n",
    "\n",
    "It takes a while to load with K24 (about 1 minute) so if you are not interested in using that, then you can comment it out. Note that you can use K24 to compute any of the examples, but it is much much slower.\n",
    "\n",
    "**The class Kronecker computer**\n",
    "These tools are objects of a class we call \"KroneckerComputer\". They have are defined by 4 attributes:\n",
    "- m   (the upper bound on the length of mu)\n",
    "- n   (the upper bound on the length of nu)\n",
    "- alternant_terms: a list of \"AlternantTerm\"s (for more on this see the heading \"The class AlternantTerm\" below)\n",
    "- vector_partition_function: the vector partition function (for more on this see the appropriate heading)\n",
    "\n",
    "\n",
    "If you are only interested in computing the Kronecker coefficient, then you need only use the method \".kronecker_coefficient()\". \n",
    "\n",
    "Alternatively, if you want to see the signed sum of vector partition functions from Thereom 1.1 of *Estimating and computing Kronecker coefficients* (Mishna, Trandafir, 2022) [previously described in *Vector partition functions and Kronecker coefficients* (Mishna, Rosas, Sundaram, 2021)], then you should use the method \".kronecker_coefficient_table()\" which outputs three things: the Kronecker coefficient, the number of non-zero alternant terms, and a table illustrating the vector partition function input & corresponding vector partition function evaluation for each alternant term.\n",
    "\n",
    "There are a number of other methods associated to the KroneckerComputer class. Feel free to check them out by picking one of the KroneckerComputers (say K22) and typing \"K22.\" (the dot is important!) followed by the TAB key. Most of the methods are discussed at some point in this document.\n",
    "\n",
    "**AlternantTerm**\n",
    "The alternant term class is defined by 3 attributes:\n",
    "- m  (the upper bound on the length of mu)\n",
    "- n  (the upper bound on the length of nu)\n",
    "- perm  (the corresponding permutation).\n",
    "\n",
    "The AlternantTerm class also has a number of attributes (most of which work in the background to achieve things for the KroneckerComputer class). If you are interested in seeing these you can choose an AlternantTerm from the alternant_terms list associated to any KroneckerComputer by doing for example (\"at = K22.alternant_terms[0]\"), and then typing \"at.\" followed by the TAB key (as before).\n",
    "\n",
    "**Vector partition function**\n",
    "The vector partition attribute is a \"PiecewiseQuasipolynomial\", which is defined by 3 attributes:\n",
    "- chambers (a list of Cones - see https://doc.sagemath.org/html/en/reference/discrete_geometry/sage/geometry/cone.html\n",
    "for more information)\n",
    "- quasipolynomials (a list of quasipolynomials represented by step polynomials - see https://barvinok.sourceforge.io/ for more information)\n",
    "- variables (a list of variables)\n",
    "\n",
    "\n",
    "**All 2,4,8 computations are commented out in case you want to run everything and not get slowed down.In order to uncomment them highlight the text in the cell and press \"CTRL\" + \"/\". NOTE: you have to begin by uncommenting K24 two cells down.**\n",
    "\n",
    "### Enjoy!"
   ]
  },
  {
   "cell_type": "markdown",
   "metadata": {},
   "source": [
    "-----------------------------------------\n",
    "## Loading the necessary files."
   ]
  },
  {
   "cell_type": "code",
   "execution_count": 1,
   "metadata": {},
   "outputs": [],
   "source": [
    "# A couple files we need.\n",
    "\n",
    "load('KroneckerComputer.sage')\n",
    "load('PiecewiseQuasipolynomial.sage')"
   ]
  },
  {
   "cell_type": "code",
   "execution_count": 2,
   "metadata": {},
   "outputs": [
    {
     "name": "stdout",
     "output_type": "stream",
     "text": [
      "CPU times: user 36.1 ms, sys: 8.02 ms, total: 44.1 ms\n",
      "Wall time: 58.7 ms\n"
     ]
    }
   ],
   "source": [
    "%%time\n",
    "\n",
    "# load everything (this takes roughly 1-2 minutes if you load K24).\n",
    "K22 = load('K22.sobj')\n",
    "K23 = load('K23.sobj')\n",
    "# K24 = load('K24.sobj')\n",
    "\n",
    "# note we don't need alternant terms (except for the atomic one) or vector partition function \n",
    "# to compute the bounds or the vanishign conditions.\n",
    "K33 = KroneckerComputer(3, 3, [AlternantTerm(3, 3, Permutation([1..9]))], None)"
   ]
  },
  {
   "cell_type": "markdown",
   "metadata": {},
   "source": [
    "## A few 2,3,6 examples.\n",
    "\n",
    "Here we check a few examples where \n",
    "$$\\ell(\\lambda) \\leq 6, \\ell(\\mu) \\leq 2, \\ell(\\nu) \\leq 3$$ \n",
    "with both the K23 and K24 solvers to make sure things are consistent. "
   ]
  },
  {
   "cell_type": "code",
   "execution_count": 3,
   "metadata": {},
   "outputs": [
    {
     "name": "stdout",
     "output_type": "stream",
     "text": [
      "The Kronecker coefficient in this case is 2566.\n",
      "There are 23 alternant terms which make a non-zero contribution to the Kronecker coefficient.\n",
      "  Permutation          b value        Signed evaluation\n",
      "+--------------------+--------------+-------------------+\n",
      "  [1, 2, 3, 4, 5, 6]   (18, 14, 17)   94140\n",
      "  [1, 3, 2, 4, 5, 6]   (10, 14, 17)   -86445\n",
      "  [1, 2, 3, 4, 6, 5]   (18, 14, 15)   -49411\n",
      "  [1, 3, 2, 4, 6, 5]   (10, 14, 15)   47516\n",
      "  [1, 2, 3, 5, 4, 6]   (18, 5, 17)    -4623\n",
      "  [1, 3, 2, 5, 4, 6]   (10, 5, 17)    3498\n",
      "  [2, 1, 3, 4, 5, 6]   (18, 6, 9)     -2315\n",
      "  [1, 2, 4, 3, 5, 6]   (18, 14, 8)    -1989\n",
      "  [2, 1, 3, 4, 6, 5]   (18, 6, 7)     1024\n",
      "  [1, 2, 3, 6, 4, 5]   (18, 3, 15)    848\n",
      "  [2, 3, 1, 4, 5, 6]   (2, 6, 9)      728\n",
      "  [1, 3, 2, 6, 4, 5]   (10, 3, 15)    -675\n",
      "  [1, 2, 4, 3, 6, 5]   (18, 14, 6)    571\n",
      "  [1, 2, 3, 5, 6, 4]   (18, 5, 6)     521\n",
      "  [1, 3, 2, 5, 6, 4]   (10, 5, 6)     -521\n",
      "  [2, 3, 1, 4, 6, 5]   (2, 6, 7)      -496\n",
      "  [1, 4, 2, 3, 5, 6]   (1, 14, 8)     369\n",
      "  [1, 2, 3, 6, 5, 4]   (18, 3, 6)     -236\n",
      "  [1, 3, 2, 6, 5, 4]   (10, 3, 6)     236\n",
      "  [1, 4, 2, 3, 6, 5]   (1, 14, 6)     -175\n",
      "  [1, 3, 4, 2, 5, 6]   (10, 14, 0)    1\n",
      "  [1, 4, 3, 2, 5, 6]   (1, 14, 0)     -1\n",
      "  [2, 1, 4, 3, 5, 6]   (18, 6, 0)     1\n",
      "CPU times: user 1.28 s, sys: 149 ms, total: 1.43 s\n",
      "Wall time: 1.46 s\n"
     ]
    }
   ],
   "source": [
    "%%time \n",
    "# Here we check a 2,3,6 test case to make sure we get the same answer with the 24 and 23 computer.\n",
    "\n",
    "LAMBDA = (34, 27, 20, 12, 4, 3)\n",
    "MU = (70, 30)\n",
    "NU = (43, 39, 18)\n",
    "\n",
    "# using the method \"kronecker_coefficient_table\" we can see the corresponding \n",
    "# vector partition evaluation for each alternant term \n",
    "\n",
    "kc, nt, t = K23.kronecker_coefficient_table(LAMBDA, MU, NU)\n",
    "print(f'The Kronecker coefficient in this case is {kc}.')\n",
    "print(f'There are {nt} alternant terms which make a non-zero contribution to the Kronecker coefficient.')\n",
    "print(t)"
   ]
  },
  {
   "cell_type": "code",
   "execution_count": 4,
   "metadata": {},
   "outputs": [
    {
     "name": "stdout",
     "output_type": "stream",
     "text": [
      "CPU times: user 1 µs, sys: 0 ns, total: 1 µs\n",
      "Wall time: 1.91 µs\n"
     ]
    },
    {
     "data": {
      "text/plain": [
       "1"
      ]
     },
     "execution_count": 4,
     "metadata": {},
     "output_type": "execute_result"
    }
   ],
   "source": [
    "%time\n",
    "LAMBDA = [87, 87, 24, 0, 0, 0]\n",
    "MU = [99, 99]\n",
    "NU = [66, 66, 66]\n",
    "\n",
    "K23.kronecker_coefficient(LAMBDA, MU, NU)"
   ]
  },
  {
   "cell_type": "code",
   "execution_count": 5,
   "metadata": {},
   "outputs": [
    {
     "name": "stdout",
     "output_type": "stream",
     "text": [
      "The Kronecker coefficient in this case is 1.\n",
      "There are 288 alternant terms which make a non-zero contribution to the Kronecker coefficient.\n",
      "  Permutation          b value           Signed evaluation\n",
      "+--------------------+-----------------+-------------------+\n",
      "  [1, 2, 3, 4, 5, 6]   (108, 120, 186)   987973200133\n",
      "  [1, 2, 3, 4, 6, 5]   (108, 120, 185)   -970260839971\n",
      "  [1, 2, 3, 5, 4, 6]   (108, 119, 186)   -956520940355\n",
      "  [2, 1, 3, 4, 5, 6]   (108, 119, 185)   -939836423135\n",
      "  [1, 2, 3, 5, 6, 4]   (108, 119, 184)   922960673083\n",
      "  [2, 1, 3, 4, 6, 5]   (108, 119, 184)   922960673083\n",
      "  [1, 2, 3, 6, 4, 5]   (108, 118, 185)   909480864634\n",
      "  [2, 1, 3, 5, 4, 6]   (108, 118, 185)   909480864634\n",
      "  [1, 2, 3, 6, 5, 4]   (108, 118, 184)   -893593031820\n",
      "  [2, 1, 3, 5, 6, 4]   (108, 118, 183)   -877523184642\n",
      "  [2, 1, 3, 6, 4, 5]   (108, 117, 184)   -864309836688\n",
      "  [2, 1, 3, 6, 5, 4]   (108, 117, 183)   849189005991\n",
      "  [1, 2, 4, 3, 5, 6]   (108, 120, 161)   -526294347443\n",
      "  [1, 2, 4, 3, 6, 5]   (108, 120, 160)   508782735353\n",
      "  [1, 2, 5, 3, 4, 6]   (108, 119, 160)   499974062065\n",
      "  [2, 1, 4, 3, 5, 6]   (108, 119, 160)   499974062065\n",
      "  [2, 1, 4, 3, 6, 5]   (108, 119, 159)   -483289544845\n",
      "  [2, 1, 5, 3, 4, 6]   (108, 118, 159)   -474751478880\n",
      "  [1, 2, 5, 3, 6, 4]   (108, 119, 158)   -466809921461\n",
      "  [1, 2, 6, 3, 4, 5]   (108, 118, 158)   -458863646066\n",
      "  [1, 2, 6, 3, 5, 4]   (108, 118, 157)   443170857269\n",
      "  [2, 1, 5, 3, 6, 4]   (108, 118, 157)   443170857269\n",
      "  [2, 1, 6, 3, 4, 5]   (108, 117, 157)   435470286816\n",
      "  [2, 1, 6, 3, 5, 4]   (108, 117, 156)   -420534964456\n",
      "  [1, 2, 4, 5, 3, 6]   (108, 94, 161)    227604769838\n",
      "  [1, 2, 5, 4, 3, 6]   (108, 94, 160)    -223535467169\n",
      "  [1, 2, 4, 6, 3, 5]   (108, 93, 160)    -213033870198\n",
      "  [2, 1, 4, 5, 3, 6]   (108, 93, 160)    -213033870198\n",
      "  [2, 1, 5, 4, 3, 6]   (108, 93, 159)    209223648525\n",
      "  [1, 2, 6, 4, 3, 5]   (108, 93, 158)    205376543916\n",
      "  [2, 1, 4, 6, 3, 5]   (108, 92, 159)    199239280014\n",
      "  [1, 2, 5, 6, 3, 4]   (108, 92, 158)    195674628807\n",
      "  [1, 2, 6, 5, 3, 4]   (108, 92, 157)    -192076030259\n",
      "  [2, 1, 6, 4, 3, 5]   (108, 92, 157)    -192076030259\n",
      "  [2, 1, 5, 6, 3, 4]   (108, 91, 157)    -182856792513\n",
      "  [2, 1, 6, 5, 3, 4]   (108, 91, 156)    179493542555\n",
      "  [1, 3, 2, 4, 5, 6]   (44, 120, 186)    -155807197750\n",
      "  [1, 3, 2, 4, 6, 5]   (44, 120, 185)    155119695843\n",
      "  [1, 3, 2, 5, 4, 6]   (44, 119, 186)    151160731446\n",
      "  [1, 3, 2, 5, 6, 4]   (44, 119, 184)    -149881056298\n",
      "  [1, 3, 2, 6, 4, 5]   (44, 118, 185)    -145975445797\n",
      "  [1, 3, 2, 6, 5, 4]   (44, 118, 184)    145381420062\n",
      "  [2, 3, 1, 4, 5, 6]   (43, 119, 185)    139787577477\n",
      "  [2, 3, 1, 4, 6, 5]   (43, 119, 184)    -139189837139\n",
      "  [2, 3, 1, 5, 4, 6]   (43, 118, 185)    -135584913791\n",
      "  [2, 3, 1, 5, 6, 4]   (43, 118, 183)    134473727397\n",
      "  [2, 3, 1, 6, 4, 5]   (43, 117, 184)    130918021908\n",
      "  [2, 3, 1, 6, 5, 4]   (43, 117, 183)    -130402911119\n",
      "  [1, 2, 4, 5, 6, 3]   (108, 94, 134)    -113070845862\n",
      "  [1, 2, 4, 6, 5, 3]   (108, 93, 134)    109675788275\n",
      "  [1, 2, 5, 4, 6, 3]   (108, 94, 133)    109044783319\n",
      "  [2, 1, 4, 5, 6, 3]   (108, 93, 133)    105865566602\n",
      "  [1, 2, 5, 6, 4, 3]   (108, 92, 133)    -102614978053\n",
      "  [2, 1, 4, 6, 5, 3]   (108, 92, 133)    -102614978053\n",
      "  [1, 2, 6, 4, 5, 3]   (108, 93, 132)    -102095249109\n",
      "  [2, 1, 5, 4, 6, 3]   (108, 93, 132)    -102095249109\n",
      "  [1, 2, 6, 5, 4, 3]   (108, 92, 132)    99050326846\n",
      "  [2, 1, 5, 6, 4, 3]   (108, 91, 132)    95939939407\n",
      "  [2, 1, 6, 4, 5, 3]   (108, 92, 131)    95522433514\n",
      "  [2, 1, 6, 5, 4, 3]   (108, 91, 131)    -92607873420\n",
      "  [1, 3, 4, 2, 5, 6]   (44, 120, 97)     10569248486\n",
      "  [1, 3, 4, 2, 6, 5]   (44, 120, 96)     -9913832191\n",
      "  [1, 3, 5, 2, 4, 6]   (44, 119, 96)     -9913832191\n",
      "  [2, 3, 4, 1, 5, 6]   (43, 119, 95)     -9020201643\n",
      "  [1, 3, 5, 2, 6, 4]   (44, 119, 94)     8695547603\n",
      "  [1, 3, 6, 2, 4, 5]   (44, 118, 94)     8695547603\n",
      "  [2, 3, 4, 1, 6, 5]   (43, 119, 94)     8450837396\n",
      "  [2, 3, 5, 1, 4, 6]   (43, 118, 94)     8450837396\n",
      "  [1, 3, 6, 2, 5, 4]   (44, 118, 93)     -8130834397\n",
      "  [2, 3, 5, 1, 6, 4]   (43, 118, 92)     -7393904460\n",
      "  [2, 3, 6, 1, 4, 5]   (43, 117, 92)     -7393904460\n",
      "  [2, 3, 6, 1, 5, 4]   (43, 117, 91)     6904677857\n",
      "  [1, 4, 2, 3, 5, 6]   (19, 120, 161)    6524963610\n",
      "  [1, 4, 2, 3, 6, 5]   (19, 120, 160)    -6469985192\n",
      "  [1, 5, 2, 3, 4, 6]   (18, 119, 160)    -5183152260\n",
      "  [2, 4, 1, 3, 5, 6]   (18, 119, 160)    -5183152260\n",
      "  [2, 4, 1, 3, 6, 5]   (18, 119, 159)    5140274414\n",
      "  [1, 5, 2, 3, 6, 4]   (18, 119, 158)    5096193630\n",
      "  [2, 5, 1, 3, 4, 6]   (17, 118, 159)    4069988043\n",
      "  [1, 6, 2, 3, 4, 5]   (17, 118, 158)    4036932603\n",
      "  [1, 6, 2, 3, 5, 4]   (17, 118, 157)    -4002942306\n",
      "  [2, 5, 1, 3, 6, 4]   (17, 118, 157)    -4002942306\n",
      "  [3, 1, 2, 4, 5, 6]   (44, 55, 121)     3373106004\n",
      "  [3, 1, 2, 4, 6, 5]   (44, 55, 120)     -3371900203\n",
      "  [1, 4, 2, 5, 3, 6]   (19, 94, 161)     -3270825916\n",
      "  [3, 2, 1, 4, 5, 6]   (43, 55, 121)     -3236555315\n",
      "  [3, 2, 1, 4, 6, 5]   (43, 55, 120)     3235549140\n",
      "  [1, 4, 2, 6, 3, 5]   (19, 93, 160)     3149789315\n",
      "  [2, 6, 1, 3, 4, 5]   (16, 117, 157)    -3130248210\n",
      "  [2, 6, 1, 3, 5, 4]   (16, 117, 156)    3104371434\n",
      "  [3, 1, 2, 5, 4, 6]   (44, 54, 121)     -3045042880\n",
      "  [3, 1, 2, 5, 6, 4]   (44, 54, 119)     3043201176\n",
      "  [1, 4, 2, 5, 6, 3]   (19, 94, 134)     2932678848\n",
      "  [3, 2, 1, 5, 4, 6]   (43, 54, 121)     2923379217\n",
      "  [3, 2, 1, 5, 6, 4]   (43, 54, 119)     -2921853395\n",
      "  [1, 4, 2, 6, 5, 3]   (19, 93, 134)     -2851702656\n",
      "  [3, 1, 2, 6, 4, 5]   (44, 53, 120)     2741912529\n",
      "  [3, 1, 2, 6, 5, 4]   (44, 53, 119)     -2741222236\n",
      "  [1, 5, 2, 4, 3, 6]   (18, 94, 160)     2681108634\n",
      "  [3, 2, 1, 6, 4, 5]   (43, 53, 120)     -2633887595\n",
      "  [3, 2, 1, 6, 5, 4]   (43, 53, 119)     2633320377\n",
      "  [2, 4, 1, 5, 3, 6]   (18, 93, 160)     2586713130\n",
      "  [2, 4, 1, 6, 3, 5]   (18, 92, 159)     -2490760674\n",
      "  [1, 5, 2, 6, 3, 4]   (18, 92, 158)     -2487563948\n",
      "  [1, 5, 2, 4, 6, 3]   (18, 94, 133)     -2392030795\n",
      "  [2, 4, 1, 5, 6, 3]   (18, 93, 133)     -2327616995\n",
      "  [1, 5, 2, 6, 4, 3]   (18, 92, 133)     2262732109\n",
      "  [2, 4, 1, 6, 5, 3]   (18, 92, 133)     2262732109\n",
      "  [2, 5, 1, 4, 3, 6]   (17, 93, 159)     -2096489817\n",
      "  [1, 6, 2, 4, 3, 5]   (17, 93, 158)     -2093389335\n",
      "  [1, 6, 2, 5, 3, 4]   (17, 92, 157)     2016918501\n",
      "  [2, 5, 1, 6, 3, 4]   (17, 91, 157)     1944798852\n",
      "  [1, 6, 2, 4, 5, 3]   (17, 93, 132)     1877208531\n",
      "  [2, 5, 1, 4, 6, 3]   (17, 93, 132)     1877208531\n",
      "  [1, 6, 2, 5, 4, 3]   (17, 92, 132)     -1826169477\n",
      "  [2, 5, 1, 6, 4, 3]   (17, 91, 132)     -1774788081\n",
      "  [2, 6, 1, 4, 3, 5]   (16, 92, 157)     1616427955\n",
      "  [2, 6, 1, 5, 3, 4]   (16, 91, 156)     -1557245667\n",
      "  [2, 6, 1, 4, 5, 3]   (16, 92, 131)     -1454518719\n",
      "  [2, 6, 1, 5, 4, 3]   (16, 91, 131)     1414599795\n",
      "  [1, 4, 3, 2, 5, 6]   (19, 120, 97)     -1314209006\n",
      "  [1, 4, 3, 2, 6, 5]   (19, 120, 96)     1260739480\n",
      "  [1, 5, 3, 2, 4, 6]   (18, 119, 96)     1058640506\n",
      "  [2, 4, 3, 1, 5, 6]   (18, 119, 95)     1015762660\n",
      "  [1, 5, 3, 2, 6, 4]   (18, 119, 94)     -974070955\n",
      "  [2, 4, 3, 1, 6, 5]   (18, 119, 94)     -974070955\n",
      "  [1, 6, 3, 2, 4, 5]   (17, 118, 94)     -809096475\n",
      "  [2, 5, 3, 1, 4, 6]   (17, 118, 94)     -809096475\n",
      "  [1, 6, 3, 2, 5, 4]   (17, 118, 93)     776041035\n",
      "  [2, 5, 3, 1, 6, 4]   (17, 118, 92)     743907285\n",
      "  [2, 6, 3, 1, 4, 5]   (16, 117, 92)     610518150\n",
      "  [2, 6, 3, 1, 5, 4]   (16, 117, 91)     -585358665\n",
      "  [1, 4, 5, 2, 3, 6]   (19, 94, 71)      352229130\n",
      "  [1, 4, 6, 2, 3, 5]   (19, 93, 69)      -309768646\n",
      "  [1, 5, 4, 2, 3, 6]   (18, 94, 71)      -303836346\n",
      "  [2, 4, 5, 1, 3, 6]   (18, 93, 69)      -268057845\n",
      "  [1, 5, 6, 2, 3, 4]   (18, 92, 67)      235274105\n",
      "  [2, 4, 6, 1, 3, 5]   (18, 92, 67)      235274105\n",
      "  [1, 6, 4, 2, 3, 5]   (17, 93, 69)      228933375\n",
      "  [2, 5, 4, 1, 3, 6]   (17, 93, 69)      228933375\n",
      "  [1, 6, 5, 2, 3, 4]   (17, 92, 67)      -201599310\n",
      "  [2, 5, 6, 1, 3, 4]   (17, 91, 65)      -176582637\n",
      "  [2, 6, 4, 1, 3, 5]   (16, 92, 67)      -170268135\n",
      "  [2, 6, 5, 1, 3, 4]   (16, 91, 65)      149653629\n",
      "  [1, 3, 4, 5, 2, 6]   (44, 30, 97)      -105918881\n",
      "  [1, 3, 5, 4, 2, 6]   (44, 30, 96)      105918358\n",
      "  [1, 3, 4, 6, 2, 5]   (44, 29, 96)      87318249\n",
      "  [1, 3, 6, 4, 2, 5]   (44, 29, 94)      -87317434\n",
      "  [1, 3, 5, 6, 2, 4]   (44, 28, 94)      -71532525\n",
      "  [1, 3, 6, 5, 2, 4]   (44, 28, 93)      71532233\n",
      "  [2, 3, 4, 5, 1, 6]   (43, 28, 95)      69466029\n",
      "  [2, 3, 5, 4, 1, 6]   (43, 28, 94)      -69465954\n",
      "  [2, 3, 4, 6, 1, 5]   (43, 27, 94)      -56547150\n",
      "  [2, 3, 6, 4, 1, 5]   (43, 27, 92)      56547042\n",
      "  [2, 3, 5, 6, 1, 4]   (43, 26, 92)      45704958\n",
      "  [2, 3, 6, 5, 1, 4]   (43, 26, 91)      -45704925\n",
      "  [1, 4, 5, 2, 6, 3]   (19, 94, 44)      -32444685\n",
      "  [1, 5, 4, 2, 6, 3]   (18, 94, 44)      29976434\n",
      "  [1, 4, 6, 2, 5, 3]   (19, 93, 43)      28536291\n",
      "  [1, 4, 3, 5, 2, 6]   (19, 30, 97)      27972832\n",
      "  [1, 4, 5, 3, 2, 6]   (19, 30, 71)      -27971738\n",
      "  [4, 1, 2, 3, 5, 6]   (19, 30, 71)      -27971738\n",
      "  [4, 1, 2, 3, 6, 5]   (19, 30, 70)      27970843\n",
      "  [1, 5, 3, 4, 2, 6]   (18, 30, 96)      -25001628\n",
      "  [1, 5, 4, 3, 2, 6]   (18, 30, 71)      25001057\n",
      "  [4, 2, 1, 3, 5, 6]   (18, 30, 71)      25001057\n",
      "  [4, 2, 1, 3, 6, 5]   (18, 30, 70)      -25000534\n",
      "  [1, 6, 4, 2, 5, 3]   (17, 93, 43)      -24221061\n",
      "  [1, 4, 3, 6, 2, 5]   (19, 29, 96)      -23699898\n",
      "  [1, 4, 6, 3, 2, 5]   (19, 29, 69)      23698804\n",
      "  [1, 5, 6, 2, 4, 3]   (18, 92, 42)      -23271484\n",
      "  [2, 4, 5, 1, 6, 3]   (18, 93, 42)      23271484\n",
      "  [1, 6, 5, 2, 4, 3]   (17, 92, 42)      21383961\n",
      "  [2, 5, 4, 1, 6, 3]   (17, 93, 42)      -21383961\n",
      "  [2, 4, 6, 1, 5, 3]   (18, 92, 41)      -20369545\n",
      "  [1, 6, 3, 4, 2, 5]   (17, 29, 94)      18846472\n",
      "  [1, 6, 4, 3, 2, 5]   (17, 29, 69)      -18846193\n",
      "  [1, 5, 3, 6, 2, 4]   (18, 28, 94)      17933115\n",
      "  [2, 4, 3, 5, 1, 6]   (18, 28, 95)      -17933115\n",
      "  [2, 4, 5, 3, 1, 6]   (18, 28, 69)      17932989\n",
      "  [5, 1, 2, 3, 4, 6]   (18, 28, 69)      17932989\n",
      "  [1, 5, 6, 3, 2, 4]   (18, 28, 67)      -17932544\n",
      "  [5, 1, 2, 3, 6, 4]   (18, 28, 67)      -17932544\n",
      "  [2, 6, 4, 1, 5, 3]   (16, 92, 41)      17088633\n",
      "  [2, 5, 6, 1, 4, 3]   (17, 91, 40)      16447408\n",
      "  [1, 6, 3, 5, 2, 4]   (17, 28, 93)      -15960056\n",
      "  [2, 5, 3, 4, 1, 6]   (17, 28, 94)      15960056\n",
      "  [2, 5, 4, 3, 1, 6]   (17, 28, 69)      -15960005\n",
      "  [5, 2, 1, 3, 4, 6]   (17, 28, 69)      -15960005\n",
      "  [1, 6, 5, 3, 2, 4]   (17, 28, 67)      15959777\n",
      "  [5, 2, 1, 3, 6, 4]   (17, 28, 67)      15959777\n",
      "  [2, 4, 3, 6, 1, 5]   (18, 27, 94)      15023640\n",
      "  [2, 4, 6, 3, 1, 5]   (18, 27, 67)      -15023514\n",
      "  [2, 6, 5, 1, 4, 3]   (16, 91, 40)      -15020220\n",
      "  [2, 6, 3, 4, 1, 5]   (16, 27, 92)      -11841280\n",
      "  [2, 6, 4, 3, 1, 5]   (16, 27, 67)      11841262\n",
      "  [2, 5, 3, 6, 1, 4]   (17, 26, 92)      -11189768\n",
      "  [6, 1, 2, 3, 4, 5]   (17, 26, 66)      -11189750\n",
      "  [2, 5, 6, 3, 1, 4]   (17, 26, 65)      11189717\n",
      "  [6, 1, 2, 3, 5, 4]   (17, 26, 65)      11189717\n",
      "  [2, 6, 3, 5, 1, 4]   (16, 26, 91)      9913245\n",
      "  [6, 2, 1, 3, 4, 5]   (16, 26, 66)      9913240\n",
      "  [2, 6, 5, 3, 1, 4]   (16, 26, 65)      -9913227\n",
      "  [6, 2, 1, 3, 5, 4]   (16, 26, 65)      -9913227\n",
      "  [3, 1, 4, 2, 5, 6]   (44, 55, 32)      -5312700\n",
      "  [3, 1, 4, 2, 6, 5]   (44, 55, 31)      4306525\n",
      "  [3, 1, 5, 2, 4, 6]   (44, 54, 31)      4306525\n",
      "  [3, 2, 4, 1, 5, 6]   (43, 55, 31)      4306525\n",
      "  [3, 2, 4, 1, 6, 5]   (43, 55, 30)      -3470996\n",
      "  [3, 2, 5, 1, 4, 6]   (43, 54, 30)      -3470996\n",
      "  [3, 1, 5, 2, 6, 4]   (44, 54, 29)      -2780703\n",
      "  [3, 1, 6, 2, 4, 5]   (44, 53, 29)      -2780703\n",
      "  [3, 1, 6, 2, 5, 4]   (44, 53, 28)      2213485\n",
      "  [3, 2, 5, 1, 6, 4]   (43, 54, 28)      2213485\n",
      "  [3, 2, 6, 1, 4, 5]   (43, 53, 28)      2213485\n",
      "  [3, 2, 6, 1, 5, 4]   (43, 53, 27)      -1750052\n",
      "  [4, 1, 2, 5, 3, 6]   (19, 4, 71)       3176\n",
      "  [4, 1, 2, 5, 6, 3]   (19, 4, 44)       -3176\n",
      "  [4, 2, 1, 5, 3, 6]   (18, 4, 71)       -3005\n",
      "  [4, 2, 1, 5, 6, 3]   (18, 4, 44)       3005\n",
      "  [1, 4, 5, 6, 2, 3]   (19, 3, 44)       1288\n",
      "  [1, 4, 6, 5, 2, 3]   (19, 3, 43)       -1288\n",
      "  [4, 1, 2, 6, 3, 5]   (19, 3, 70)       -1288\n",
      "  [4, 1, 2, 6, 5, 3]   (19, 3, 44)       1288\n",
      "  [1, 5, 4, 6, 2, 3]   (18, 3, 44)       -1220\n",
      "  [1, 5, 6, 4, 2, 3]   (18, 3, 42)       1220\n",
      "  [4, 2, 1, 6, 3, 5]   (18, 3, 70)       1220\n",
      "  [4, 2, 1, 6, 5, 3]   (18, 3, 44)       -1220\n",
      "  [5, 1, 2, 4, 3, 6]   (18, 3, 69)       -1220\n",
      "  [5, 1, 2, 4, 6, 3]   (18, 3, 42)       1220\n",
      "  [1, 6, 4, 5, 2, 3]   (17, 3, 43)       1152\n",
      "  [1, 6, 5, 4, 2, 3]   (17, 3, 42)       -1152\n",
      "  [5, 2, 1, 4, 3, 6]   (17, 3, 69)       1152\n",
      "  [5, 2, 1, 4, 6, 3]   (17, 3, 42)       -1152\n",
      "  [4, 1, 3, 2, 5, 6]   (19, 30, 7)       1094\n",
      "  [1, 3, 4, 5, 6, 2]   (44, 30, 6)       571\n",
      "  [1, 3, 4, 6, 5, 2]   (44, 29, 6)       -571\n",
      "  [1, 4, 3, 5, 6, 2]   (19, 30, 6)       -571\n",
      "  [1, 4, 3, 6, 5, 2]   (19, 29, 6)       571\n",
      "  [4, 1, 3, 2, 6, 5]   (19, 30, 6)       -571\n",
      "  [4, 2, 3, 1, 5, 6]   (18, 30, 6)       -571\n",
      "  [1, 3, 5, 4, 6, 2]   (44, 30, 5)       -279\n",
      "  [1, 3, 5, 6, 4, 2]   (44, 28, 5)       279\n",
      "  [1, 5, 3, 4, 6, 2]   (18, 30, 5)       279\n",
      "  [1, 5, 3, 6, 4, 2]   (18, 28, 5)       -279\n",
      "  [4, 2, 3, 1, 6, 5]   (18, 30, 5)       279\n",
      "  [5, 1, 3, 2, 4, 6]   (18, 28, 5)       -279\n",
      "  [1, 3, 6, 4, 5, 2]   (44, 29, 4)       126\n",
      "  [1, 3, 6, 5, 4, 2]   (44, 28, 4)       -126\n",
      "  [1, 6, 3, 4, 5, 2]   (17, 29, 4)       -126\n",
      "  [1, 6, 3, 5, 4, 2]   (17, 28, 4)       126\n",
      "  [5, 2, 3, 1, 4, 6]   (17, 28, 4)       126\n",
      "  [2, 4, 5, 6, 1, 3]   (18, 1, 42)       -112\n",
      "  [2, 4, 6, 5, 1, 3]   (18, 1, 41)       112\n",
      "  [5, 1, 2, 6, 3, 4]   (18, 1, 67)       112\n",
      "  [5, 1, 2, 6, 4, 3]   (18, 1, 42)       -112\n",
      "  [2, 5, 4, 6, 1, 3]   (17, 1, 42)       106\n",
      "  [2, 5, 6, 4, 1, 3]   (17, 1, 40)       -106\n",
      "  [5, 2, 1, 6, 3, 4]   (17, 1, 67)       -106\n",
      "  [5, 2, 1, 6, 4, 3]   (17, 1, 42)       106\n",
      "  [6, 1, 2, 4, 3, 5]   (17, 1, 66)       106\n",
      "  [6, 1, 2, 4, 5, 3]   (17, 1, 40)       -106\n",
      "  [2, 6, 4, 5, 1, 3]   (16, 1, 41)       -100\n",
      "  [2, 6, 5, 4, 1, 3]   (16, 1, 40)       100\n",
      "  [6, 2, 1, 4, 3, 5]   (16, 1, 66)       -100\n",
      "  [6, 2, 1, 4, 5, 3]   (16, 1, 40)       100\n",
      "  [2, 3, 4, 5, 6, 1]   (43, 28, 3)       -51\n",
      "  [2, 3, 4, 6, 5, 1]   (43, 27, 3)       51\n",
      "  [2, 4, 3, 5, 6, 1]   (18, 28, 3)       51\n",
      "  [2, 4, 3, 6, 5, 1]   (18, 27, 3)       -51\n",
      "  [5, 1, 3, 2, 6, 4]   (18, 28, 3)       51\n",
      "  [2, 3, 5, 4, 6, 1]   (43, 28, 2)       18\n",
      "  [2, 3, 5, 6, 4, 1]   (43, 26, 2)       -18\n",
      "  [2, 5, 3, 4, 6, 1]   (17, 28, 2)       -18\n",
      "  [2, 5, 3, 6, 4, 1]   (17, 26, 2)       18\n",
      "  [5, 2, 3, 1, 6, 4]   (17, 28, 2)       -18\n",
      "  [6, 1, 2, 5, 3, 4]   (17, 0, 65)       -18\n",
      "  [6, 1, 2, 5, 4, 3]   (17, 0, 40)       18\n",
      "  [6, 1, 3, 2, 4, 5]   (17, 26, 2)       18\n",
      "  [6, 2, 1, 5, 3, 4]   (16, 0, 65)       17\n",
      "  [6, 2, 1, 5, 4, 3]   (16, 0, 40)       -17\n",
      "  [2, 3, 6, 4, 5, 1]   (43, 27, 1)       -5\n",
      "  [2, 3, 6, 5, 4, 1]   (43, 26, 1)       5\n",
      "  [2, 6, 3, 4, 5, 1]   (16, 27, 1)       5\n",
      "  [2, 6, 3, 5, 4, 1]   (16, 26, 1)       -5\n",
      "  [6, 1, 3, 2, 5, 4]   (17, 26, 1)       -5\n",
      "  [6, 2, 3, 1, 4, 5]   (16, 26, 1)       -5\n",
      "  [6, 2, 3, 1, 5, 4]   (16, 26, 0)       1\n",
      "CPU times: user 813 ms, sys: 44.3 ms, total: 857 ms\n",
      "Wall time: 815 ms\n"
     ]
    }
   ],
   "source": [
    "%%time\n",
    "# This example is significant since there are a lot of alternant terms which make a non-zero\n",
    "# contribution to the Kronecker coefficient (namely 288). However, there is a lot of cancellation here...\n",
    "\n",
    "LAMBDA = [87, 87, 24, 0, 0, 0]\n",
    "MU = [99, 99]\n",
    "NU = [66, 66, 66]\n",
    "\n",
    "kc, nt, t = K23.kronecker_coefficient_table(LAMBDA, MU, NU)\n",
    "print(f'The Kronecker coefficient in this case is {kc}.')\n",
    "print(f'There are {nt} alternant terms which make a non-zero contribution to the Kronecker coefficient.')\n",
    "print(t)"
   ]
  },
  {
   "cell_type": "markdown",
   "metadata": {},
   "source": [
    "## Some 2,4,8 examples.\n",
    "The examples below cannot be done with the 2,3,6 computer (nor with Baldoni-Vergne-Walter). Thus, we have only actually verified one of them (the Balantine-Orellana one). More known examples would be welcome here :)"
   ]
  },
  {
   "cell_type": "code",
   "execution_count": 8,
   "metadata": {},
   "outputs": [],
   "source": [
    "# %%time\n",
    "# # This takes a while!!! \n",
    "\n",
    "# LAMBDA = [87, 87, 24, 0, 0, 0, 0, 0]\n",
    "# MU = [99, 99]\n",
    "# NU = [66, 66, 66, 0]\n",
    "\n",
    "# kc, nt, t = K24.kronecker_coefficient_table(LAMBDA, MU, NU)\n",
    "# print(f'The Kronecker coefficient in this case is {kc}.')\n",
    "# print(f'There are {nt} alternant terms which make a non-zero contribution to the Kronecker coefficient.')\n",
    "# print(t)"
   ]
  },
  {
   "cell_type": "code",
   "execution_count": 9,
   "metadata": {},
   "outputs": [],
   "source": [
    "# %%time\n",
    "# # This yields 0. (and takes 1hr 16mins 16seconds to compute that).\n",
    "\n",
    "# LAMBDA = [60, 60, 60, 60, 60, 60, 40, 0]\n",
    "# MU = [200, 200]\n",
    "# NU = [100, 100, 100, 100]\n",
    "\n",
    "# kc, nt, t = K24.kronecker_coefficient_table(LAMBDA, MU, NU)\n",
    "# print(f'The Kronecker coefficient in this case is {kc}.')\n",
    "# print(f'There are {nt} alternant terms which make a non-zero contribution to the Kronecker coefficient.')\n",
    "# # print(t)"
   ]
  },
  {
   "cell_type": "code",
   "execution_count": 10,
   "metadata": {},
   "outputs": [],
   "source": [
    "# %%time\n",
    "# # We got 391 here. (and takes 52min 11s to compute that)\n",
    "\n",
    "# LAMBDA = [57, 57, 57, 33, 33, 33, 10, 0]\n",
    "# MU = [140, 140]\n",
    "# NU = [70, 70, 70, 70]\n",
    "\n",
    "# K24.kronecker_coefficient_table(LAMBDA, MU, NU)"
   ]
  },
  {
   "cell_type": "code",
   "execution_count": 11,
   "metadata": {},
   "outputs": [],
   "source": [
    "# %%time\n",
    "# # An example from Ballantine, Orellana (immediately preceding Corrolary 3.3), answer should be 4. \n",
    "# # and we get 4. (in this case it takes 1-2 minutes to compute)\n",
    "\n",
    "# LAMBDA = [6, 4, 4, 1, 0, 0, 0, 0]\n",
    "# MU = [12, 3]\n",
    "# NU = [5, 4, 3, 3]\n",
    "\n",
    "# kc, nt, t = K24.kronecker_coefficient_table(LAMBDA, MU, NU)\n",
    "# print(f'The Kronecker coefficient in this case is {kc}.')\n",
    "# print(f'There are {nt} alternant terms which make a non-zero contribution to the Kronecker coefficient.')\n",
    "# print(t)"
   ]
  },
  {
   "cell_type": "markdown",
   "metadata": {},
   "source": [
    "## Extra things."
   ]
  },
  {
   "cell_type": "markdown",
   "metadata": {},
   "source": [
    "### Manipulating the vector partition functions.\n",
    "\n",
    "We can also manipulate the vector partition functions."
   ]
  },
  {
   "cell_type": "code",
   "execution_count": 12,
   "metadata": {},
   "outputs": [],
   "source": [
    "p23 = K23.vector_partition_function"
   ]
  },
  {
   "cell_type": "code",
   "execution_count": 13,
   "metadata": {
    "scrolled": true
   },
   "outputs": [
    {
     "name": "stdout",
     "output_type": "stream",
     "text": [
      "There are 34 chambers in the 2,3,6 case\n",
      "The first one is generated by the following rays:\n",
      "N(1, 3, 4),\n",
      "N(0, 1, 2),\n",
      "N(0, 1, 1)\n",
      "in 3-d lattice N\n"
     ]
    }
   ],
   "source": [
    "print(f'There are {len(p23.chambers)} chambers in the 2,3,6 case')\n",
    "print(f'The first one is generated by the following rays:')\n",
    "print(p23.chambers[0].rays())"
   ]
  },
  {
   "cell_type": "code",
   "execution_count": 14,
   "metadata": {},
   "outputs": [
    {
     "name": "stdout",
     "output_type": "stream",
     "text": [
      "Here is the quasi-polynomial associated to the first chamber\n",
      "-1/640*b1^8 + 1/5040*b1^7*(15*b2 + 4*b3 - 86) - 1/1920*(8*b2*(b3 - 8) - 2*b3^2 - 20*b3 + 93)*b1^6 - 1/2880*(12*b2^3 - 12*b2^2*(2*b3 - 1) - 2*b3^3 + 12*(b3^2 + 12*b3 - 22)*b2 - 36*b3^2 - 140*b3 - 85)*b1^5 - 1/1920*(120*b2^3 - 120*b2^2*(2*b3 - 1) - 20*b3^3 + 40*(3*b3^2 + 8*b3 + 8)*b2 - 80*b3^2 - 200*b3 - 323)*b1^4 - 1/1440*(510*b2^3 - 510*b2^2*(2*b3 - 1) - 85*b3^3 + 30*(17*b3^2 - 6*b3 + 49)*b2 + 45*b3^2 - 256*b3 + 439)*b1^3 - 1/960*(900*b2^3 - 900*b2^2*(2*b3 - 1) - 150*b3^3 + 4*(225*b3^2 - 401*b3 + 208)*b2 + 401*b3^2 - 450*b3 + 15*frac(1/2*b1 + 1/2*b3) + 15*frac(1/2*b3) + 526)*b1^2 - 1/2*b2^3 + 1/2*b2^2*(2*b3 - 1) + 1/12*b3^3 - 1/10080*(11508*b2^3 - 11508*b2^2*(2*b3 - 1) - 1918*b3^3 + 12*(959*b3^2 - 2457*b3 - 778)*b2 + 7371*b3^2 - 7790*b3 + 945*frac(1/2*b1 + 1/2*b3) + 945*frac(1/2*b3) - 8460)*b1 - 1/2*(b3^2 - 3*b3 - 2)*b2 - 3/8*b3^2 + 5/12*b3 - 1/8*frac(1/2*b1 + 1/2*b3) - 1/8*frac(1/2*b3) + 1\n"
     ]
    }
   ],
   "source": [
    "print('Here is the quasi-polynomial associated to the first chamber')\n",
    "print(p23.quasipolynomials[0])"
   ]
  },
  {
   "cell_type": "markdown",
   "metadata": {},
   "source": [
    "### Poset of alternant terms."
   ]
  },
  {
   "cell_type": "code",
   "execution_count": 15,
   "metadata": {},
   "outputs": [
    {
     "data": {
      "image/png": "[encoded data removed]",
      "text/plain": [
       "Finite poset containing 11 elements"
      ]
     },
     "execution_count": 15,
     "metadata": {},
     "output_type": "execute_result"
    }
   ],
   "source": [
    "P = K22.poset(); P"
   ]
  },
  {
   "cell_type": "code",
   "execution_count": 16,
   "metadata": {},
   "outputs": [
    {
     "name": "stdout",
     "output_type": "stream",
     "text": [
      "10 [3, 2, 1, 4]\n",
      "9 [3, 1, 2, 4]\n",
      "8 [2, 3, 1, 4]\n",
      "7 [2, 1, 4, 3]\n",
      "6 [2, 1, 3, 4]\n",
      "5 [1, 4, 3, 2]\n",
      "4 [1, 4, 2, 3]\n",
      "3 [1, 3, 4, 2]\n",
      "2 [1, 3, 2, 4]\n",
      "1 [1, 2, 4, 3]\n",
      "0 [1, 2, 3, 4]\n"
     ]
    }
   ],
   "source": [
    "for e in P:\n",
    "    print(e, K22.alternant_terms[e].perm)"
   ]
  }
 ],
 "metadata": {
  "kernelspec": {
   "display_name": "SageMath 9.6",
   "language": "sage",
   "name": "sagemath-9.6"
  },
  "language_info": {
   "codemirror_mode": {
    "name": "ipython",
    "version": 3
   },
   "file_extension": ".py",
   "mimetype": "text/x-python",
   "name": "python",
   "nbconvert_exporter": "python",
   "pygments_lexer": "ipython3",
   "version": "3.10.3"
  }
 },
 "nbformat": 4,
 "nbformat_minor": 4
}
